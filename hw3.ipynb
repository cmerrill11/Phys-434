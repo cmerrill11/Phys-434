{
 "cells": [
  {
   "cell_type": "code",
   "execution_count": 2,
   "id": "b7043415-7bf8-4a09-b1cc-6b8ee24d756a",
   "metadata": {},
   "outputs": [],
   "source": [
    "import numpy as np\n",
    "import matplotlib\n",
    "import matplotlib.pyplot as plt\n",
    "import scipy\n",
    "from scipy import stats\n",
    "\n",
    "plt.rcParams[\"figure.figsize\"] = (25,10)"
   ]
  },
  {
   "cell_type": "markdown",
   "id": "fe9899d7-10f0-40ee-bb9f-162f43782ed3",
   "metadata": {},
   "source": [
    "# Homework 3\n",
    "\n",
    "### Problem 1\n",
    "\n",
    "1a) The \"New Algorithm\" makes a total of 12 mistakes, 11 people identified as birds and 1 bird identified as a person. The old algorithm made a total of 8 mistakes, 5 people identified as birds and 3 birds identified as people. 8 is fewer than 12 so the old algorithm made the fewest mistakes.\n",
    "\n",
    "1b) According to the description of the desires of the zoo to not allow any birds to escape, the second algorithm is better. Despite more mis-identifications, there are two fewer bird-identified-as-person errors which is the error type that allow birds to escape the zoo.  \n",
    "\n",
    "1c) The below truth tables assume that the visits to the door increases by 10 times so that there are 1000 photos taken in a given interval.\n",
    "\n",
    "|           | True Birds | True People |\n",
    "|-----------|------------|-------------|\n",
    "| NN Birds  | 921        | 1           |\n",
    "| NN People | 69         | 9           |\n",
    "\n",
    "\n",
    "|           | True Birds | True People |\n",
    "|-----------|------------|-------------|\n",
    "| NA Birds  | 970        | 2           |\n",
    "| NA People | 20         | 8           |"
   ]
  },
  {
   "cell_type": "markdown",
   "id": "225bf012-016c-458b-a699-22fed05a8ecf",
   "metadata": {},
   "source": [
    "### Problem 2\n",
    "\n",
    "2a) What is the sum of two identical exponential distributions? \n",
    "\n",
    "[This link](https://en.wikipedia.org/wiki/Exponential_distribution#Sum_of_two_independent_exponential_random_variables) says that the sum of two independent exponential random variables each with $ \\lambda_1 = \\lambda_2 $ is given by the function\n",
    "$$ \n",
    "f(z) = \\lambda^{2}ze^{-\\lambda z}\n",
    "$$"
   ]
  },
  {
   "cell_type": "markdown",
   "id": "40e48ece-33f2-4f1b-972c-ad79c02d224c",
   "metadata": {},
   "source": [
    "2b) [This link](https://en.wikipedia.org/wiki/Normal_distribution#Operations_on_two_independent_standard_normal_variables) explains that the ratio of two standard normal distributions is given by the cauchy distribution. Specifically the standard Cauchy distribution of location = 0 and scale = 1: \n",
    "$$\n",
    "pdf(x) = \\frac{1}{\\pi\\gamma\\left[1+\\left(\\frac{x-x_0}{\\gamma}\\right)^2\\right]}\n",
    "$$"
   ]
  },
  {
   "cell_type": "markdown",
   "id": "cd14a285-65c9-4882-ab54-6a492b40e7d1",
   "metadata": {},
   "source": [
    "2c) The PDF of the magnitude of the vactor whose components are both 1D normal distributions of mean = 0 and std dv = 1 is given by the [rayleigh distribution](https://en.wikipedia.org/wiki/Rayleigh_distribution#Relation_to_random_vector_length). The PDF is given by\n",
    "\n",
    "$$\n",
    "f(x) = \\frac{x}{\\sigma^2}e^{-x^{2}/\\left(2\\sigma^2\\right)}\n",
    "$$"
   ]
  }
 ],
 "metadata": {
  "kernelspec": {
   "display_name": "Python 3",
   "language": "python",
   "name": "python3"
  },
  "language_info": {
   "codemirror_mode": {
    "name": "ipython",
    "version": 3
   },
   "file_extension": ".py",
   "mimetype": "text/x-python",
   "name": "python",
   "nbconvert_exporter": "python",
   "pygments_lexer": "ipython3",
   "version": "3.8.8"
  }
 },
 "nbformat": 4,
 "nbformat_minor": 5
}
